{
  "cells": [
    {
      "cell_type": "code",
      "execution_count": 1,
      "metadata": {
        "id": "GltFmD4v3dY9"
      },
      "outputs": [],
      "source": [
        "from sklearn.datasets import load_iris\n",
        "import  matplotlib.pyplot as plt\n",
        "import seaborn as sns"
      ]
    },
    {
      "cell_type": "code",
      "execution_count": 2,
      "metadata": {
        "colab": {
          "base_uri": "https://localhost:8080/"
        },
        "id": "eYCB4QCT3sdw",
        "outputId": "f15a95ee-4d06-494c-adb4-e6505f5a8e3f"
      },
      "outputs": [],
      "source": [
        "data=load_iris()\n",
        "X = data.data\n",
        "y = data.target"
      ]
    },
    {
      "cell_type": "code",
      "execution_count": 3,
      "metadata": {},
      "outputs": [
        {
          "data": {
            "text/plain": [
              "array([0, 0, 0, 0, 0, 0, 0, 0, 0, 0, 0, 0, 0, 0, 0, 0, 0, 0, 0, 0, 0, 0,\n",
              "       0, 0, 0, 0, 0, 0, 0, 0, 0, 0, 0, 0, 0, 0, 0, 0, 0, 0, 0, 0, 0, 0,\n",
              "       0, 0, 0, 0, 0, 0, 1, 1, 1, 1, 1, 1, 1, 1, 1, 1, 1, 1, 1, 1, 1, 1,\n",
              "       1, 1, 1, 1, 1, 1, 1, 1, 1, 1, 1, 1, 1, 1, 1, 1, 1, 1, 1, 1, 1, 1,\n",
              "       1, 1, 1, 1, 1, 1, 1, 1, 1, 1, 1, 1, 2, 2, 2, 2, 2, 2, 2, 2, 2, 2,\n",
              "       2, 2, 2, 2, 2, 2, 2, 2, 2, 2, 2, 2, 2, 2, 2, 2, 2, 2, 2, 2, 2, 2,\n",
              "       2, 2, 2, 2, 2, 2, 2, 2, 2, 2, 2, 2, 2, 2, 2, 2, 2, 2])"
            ]
          },
          "execution_count": 3,
          "metadata": {},
          "output_type": "execute_result"
        }
      ],
      "source": [
        "y"
      ]
    },
    {
      "cell_type": "code",
      "execution_count": 4,
      "metadata": {
        "colab": {
          "base_uri": "https://localhost:8080/"
        },
        "id": "JS3YSxb4uSbp",
        "outputId": "ec3a0e95-d504-4248-b929-009524950973"
      },
      "outputs": [
        {
          "name": "stdout",
          "output_type": "stream",
          "text": [
            "['sepal length (cm)', 'sepal width (cm)', 'petal length (cm)', 'petal width (cm)']\n"
          ]
        }
      ],
      "source": [
        "features=data.feature_names\n",
        "print(features)"
      ]
    },
    {
      "cell_type": "code",
      "execution_count": 5,
      "metadata": {},
      "outputs": [
        {
          "data": {
            "text/plain": [
              "array(['setosa', 'versicolor', 'virginica'], dtype='<U10')"
            ]
          },
          "execution_count": 5,
          "metadata": {},
          "output_type": "execute_result"
        }
      ],
      "source": [
        "data.target_names"
      ]
    },
    {
      "cell_type": "code",
      "execution_count": 6,
      "metadata": {
        "colab": {
          "base_uri": "https://localhost:8080/",
          "height": 285
        },
        "id": "ZKAvA9UmvMHf",
        "outputId": "2535da1a-a1ab-489f-f541-091ebd519658"
      },
      "outputs": [
        {
          "data": {
            "text/plain": [
              "<Axes: >"
            ]
          },
          "execution_count": 6,
          "metadata": {},
          "output_type": "execute_result"
        },
        {
          "data": {
            "image/png": "[encoded data removed]",
            "text/plain": [
              "<Figure size 640x480 with 1 Axes>"
            ]
          },
          "metadata": {},
          "output_type": "display_data"
        }
      ],
      "source": [
        "my_pal = {0:\"g\", 1:\"b\",2:\"r\"}\n",
        "sns.boxplot(hue=y,y=X[:,1],palette=my_pal,legend=True)\n"
      ]
    },
    {
      "cell_type": "code",
      "execution_count": 7,
      "metadata": {
        "id": "GYiaKbRa61Zr"
      },
      "outputs": [],
      "source": [
        "from sklearn.ensemble import RandomForestClassifier\n",
        "from sklearn.model_selection import train_test_split"
      ]
    },
    {
      "cell_type": "code",
      "execution_count": 8,
      "metadata": {
        "id": "LooSRMQp7GVD"
      },
      "outputs": [],
      "source": [
        "X_train,X_test,y_train,y_test=train_test_split(X,y,test_size=0.25)"
      ]
    },
    {
      "cell_type": "code",
      "execution_count": 9,
      "metadata": {
        "id": "LaGWFj5q7NAo"
      },
      "outputs": [],
      "source": [
        "model=RandomForestClassifier()"
      ]
    },
    {
      "cell_type": "code",
      "execution_count": 10,
      "metadata": {
        "id": "JCl19F017Qpn"
      },
      "outputs": [],
      "source": [
        "rf_model=model.fit(X_train,y_train)"
      ]
    },
    {
      "cell_type": "code",
      "execution_count": 11,
      "metadata": {
        "colab": {
          "base_uri": "https://localhost:8080/"
        },
        "id": "35-2dk9V-cnJ",
        "outputId": "3ce01876-061e-4ba2-95b5-e85573b3436b"
      },
      "outputs": [
        {
          "name": "stdout",
          "output_type": "stream",
          "text": [
            "0.9736842105263158\n"
          ]
        }
      ],
      "source": [
        "print(rf_model.score(X_test,y_test))"
      ]
    },
    {
      "cell_type": "code",
      "execution_count": 12,
      "metadata": {
        "colab": {
          "base_uri": "https://localhost:8080/"
        },
        "id": "5P1lfShDftxn",
        "outputId": "7663fcef-c189-4983-f38f-11228bb3472e"
      },
      "outputs": [
        {
          "name": "stdout",
          "output_type": "stream",
          "text": [
            "[2 1 2 2 1 1 1 1 2 2 2 1 2 1 0 2 1 2 1 1 1 0 0 0 0 0 0 0 0 2 2 2 0 0 0 0 2\n",
            " 1]\n"
          ]
        }
      ],
      "source": [
        "predictions=rf_model.predict(X_test)\n",
        "print(predictions)"
      ]
    },
    {
      "cell_type": "code",
      "execution_count": 13,
      "metadata": {},
      "outputs": [
        {
          "data": {
            "text/plain": [
              "array(['setosa', 'versicolor', 'virginica'], dtype='<U10')"
            ]
          },
          "execution_count": 13,
          "metadata": {},
          "output_type": "execute_result"
        }
      ],
      "source": [
        "data.target_names"
      ]
    },
    {
      "cell_type": "code",
      "execution_count": 14,
      "metadata": {
        "id": "Z4aPCUALpaAn"
      },
      "outputs": [],
      "source": [
        "def classify(predictions):\n",
        "    if predictions<0.5:\n",
        "        return 'Setosa'\n",
        "    elif predictions <1.5:\n",
        "        return 'Versicolor'\n",
        "    else:\n",
        "        return 'Virginica'"
      ]
    },
    {
      "cell_type": "code",
      "execution_count": 15,
      "metadata": {
        "id": "_yo1qIZafSMi"
      },
      "outputs": [],
      "source": [
        "import gradio as gr\n",
        "import numpy as np\n",
        "def predict_flower(sl,sw,pl,pw):\n",
        "    input_array=np.array([[sl,sw,pl,pw]])\n",
        "    pred=rf_model.predict(input_array)\n",
        "    output=classify(pred[0])\n",
        "    if output=='Setosa':\n",
        "      return [(0,output)]\n",
        "    elif output=='Versicolor':\n",
        "      return [(1,output)]\n",
        "    else:\n",
        "      return [(2,output)]\n"
      ]
    },
    {
      "cell_type": "code",
      "execution_count": 16,
      "metadata": {
        "colab": {
          "base_uri": "https://localhost:8080/",
          "height": 590
        },
        "id": "Gs1EzAPShVWi",
        "outputId": "1ca4b49e-9710-4fcb-f9d2-661826ae1cae"
      },
      "outputs": [
        {
          "name": "stderr",
          "output_type": "stream",
          "text": [
            "/home/cristian/Desktop/gradio_0.30/.venv/lib/python3.8/site-packages/gradio/deprecation.py:40: UserWarning: `optional` parameter is deprecated, and it has no effect\n",
            "  warnings.warn(value)\n"
          ]
        },
        {
          "name": "stdout",
          "output_type": "stream",
          "text": [
            "IMPORTANT: You are using gradio version 3.0, however version 3.14.0 is available, please upgrade.\n",
            "--------\n",
            "Running on local URL:  http://127.0.0.1:7860/\n",
            "\n",
            "To create a public link, set `share=True` in `launch()`.\n"
          ]
        },
        {
          "data": {
            "text/html": [
              "\n",
              "        <iframe\n",
              "            width=\"900\"\n",
              "            height=\"500\"\n",
              "            src=\"http://127.0.0.1:7860/\"\n",
              "            frameborder=\"0\"\n",
              "            allowfullscreen\n",
              "            \n",
              "        ></iframe>\n",
              "        "
            ],
            "text/plain": [
              "<IPython.lib.display.IFrame at 0x7f4ed83e0040>"
            ]
          },
          "metadata": {},
          "output_type": "display_data"
        },
        {
          "data": {
            "text/plain": [
              "(<gradio.routes.App at 0x7f4edb1ebfa0>, 'http://127.0.0.1:7860/', None)"
            ]
          },
          "execution_count": 16,
          "metadata": {},
          "output_type": "execute_result"
        }
      ],
      "source": [
        "sl = gr.inputs.Slider(minimum=0, maximum=7, default=2, label=\"Sepal Length\")\n",
        "sw = gr.inputs.Slider(minimum=0, maximum=7, default=2, label=\"Sepal Width\")\n",
        "pl = gr.inputs.Slider(minimum=0, maximum=7, default=2, label=\"Petal Length\")\n",
        "pw = gr.inputs.Slider(minimum=0, maximum=7, default=2, label=\"Petal Width\")\n",
        "op=gr.outputs.HighlightedText(color_map={ \"Setosa\": \"lightgreen\",\n",
        "        \"Versicolor\": \"pink\",\n",
        "        \"Virginica\": \"yellow\",})\n",
        "\n",
        "demo = gr.Interface(fn = predict_flower, \n",
        "             inputs=[sl,sw,pl,pw], \n",
        "             outputs=op,\n",
        "             live=True,\n",
        "             examples=[[1,2,3,4]])\n",
        "\n",
        "\n",
        "demo.launch()"
      ]
    },
    {
      "cell_type": "code",
      "execution_count": 17,
      "metadata": {
        "id": "_89X0ycUSjSH"
      },
      "outputs": [
        {
          "name": "stdout",
          "output_type": "stream",
          "text": [
            "Help on class Interface in module gradio.interface:\n",
            "\n",
            "class Interface(gradio.blocks.Blocks)\n",
            " |  Interface(fn: 'Callable | List[Callable]', inputs: 'Optional[str | Component | List[str | Component]]', outputs: 'Optional[str | Component | List[str | Component]]', examples: 'Optional[List[Any] | List[List[Any]] | str]' = None, cache_examples: 'Optional[bool]' = None, examples_per_page: 'int' = 10, live: 'bool' = False, interpretation: 'Optional[Callable | str]' = None, num_shap: 'float' = 2.0, title: 'Optional[str]' = None, description: 'Optional[str]' = None, article: 'Optional[str]' = None, thumbnail: 'Optional[str]' = None, theme: 'Optional[str]' = None, css: 'Optional[str]' = None, allow_flagging: 'Optional[str]' = None, flagging_options: 'List[str]' = None, flagging_dir: 'str' = 'flagged', flagging_callback: 'FlaggingCallback' = <gradio.flagging.CSVLogger object at 0x7f4ed85602b0>, analytics_enabled: 'Optional[bool]' = None, _repeat_outputs_per_model: 'bool' = True, **kwargs)\n",
            " |  \n",
            " |  The Interface class is a high-level abstraction that allows you to create a\n",
            " |  web-based demo around a machine learning model or arbitrary Python function\n",
            " |  by specifying: (1) the function (2) the desired input components and (3) desired output components.\n",
            " |  \n",
            " |  Method resolution order:\n",
            " |      Interface\n",
            " |      gradio.blocks.Blocks\n",
            " |      gradio.blocks.BlockContext\n",
            " |      gradio.blocks.Block\n",
            " |      builtins.object\n",
            " |  \n",
            " |  Methods defined here:\n",
            " |  \n",
            " |  __call__(self, *params)\n",
            " |      Call self as a function.\n",
            " |  \n",
            " |  __init__(self, fn: 'Callable | List[Callable]', inputs: 'Optional[str | Component | List[str | Component]]', outputs: 'Optional[str | Component | List[str | Component]]', examples: 'Optional[List[Any] | List[List[Any]] | str]' = None, cache_examples: 'Optional[bool]' = None, examples_per_page: 'int' = 10, live: 'bool' = False, interpretation: 'Optional[Callable | str]' = None, num_shap: 'float' = 2.0, title: 'Optional[str]' = None, description: 'Optional[str]' = None, article: 'Optional[str]' = None, thumbnail: 'Optional[str]' = None, theme: 'Optional[str]' = None, css: 'Optional[str]' = None, allow_flagging: 'Optional[str]' = None, flagging_options: 'List[str]' = None, flagging_dir: 'str' = 'flagged', flagging_callback: 'FlaggingCallback' = <gradio.flagging.CSVLogger object at 0x7f4ed85602b0>, analytics_enabled: 'Optional[bool]' = None, _repeat_outputs_per_model: 'bool' = True, **kwargs)\n",
            " |      Parameters:\n",
            " |      fn (Callable): the function to wrap an interface around. Often a machine learning model's prediction function.\n",
            " |      inputs (str | Component | List[str] | List[Component] | None): a single Gradio component, or list of Gradio components. Components can either be passed as instantiated objects, or referred to by their string shortcuts. The number of input components should match the number of parameters in fn. If set to None, then only the output components will be displayed.\n",
            " |      outputs (str | Component | List[str] | List[Component] | None): a single Gradio component, or list of Gradio components. Components can either be passed as instantiated objects, or referred to by their string shortcuts. The number of output components should match the number of values returned by fn. If set to None, then only the input components will be displayed.\n",
            " |      examples (List[List[Any]] | str | None): sample inputs for the function; if provided, appear below the UI components and can be clicked to populate the interface. Should be nested list, in which the outer list consists of samples and each inner list consists of an input corresponding to each input component. A string path to a directory of examples can also be provided. If there are multiple input components and a directory is provided, a log.csv file must be present in the directory to link corresponding inputs.\n",
            " |      cache_examples (bool | None): If True, caches examples in the server for fast runtime in examples. The default option in HuggingFace Spaces is True. The default option elsewhere is False.\n",
            " |      examples_per_page (int): If examples are provided, how many to display per page.\n",
            " |      live (bool): whether the interface should automatically rerun if any of the inputs change.\n",
            " |      interpretation (Callable | str): function that provides interpretation explaining prediction output. Pass \"default\" to use simple built-in interpreter, \"shap\" to use a built-in shapley-based interpreter, or your own custom interpretation function.\n",
            " |      num_shap (float): a multiplier that determines how many examples are computed for shap-based interpretation. Increasing this value will increase shap runtime, but improve results. Only applies if interpretation is \"shap\".\n",
            " |      title (str | None): a title for the interface; if provided, appears above the input and output components in large font.\n",
            " |      description (str | None): a description for the interface; if provided, appears above the input and output components and beneath the title in regular font. Accepts Markdown and HTML content.\n",
            " |      article (str | None): an expanded article explaining the interface; if provided, appears below the input and output components in regular font. Accepts Markdown and HTML content.\n",
            " |      thumbnail (str | None): path or url to image to use as display image when the web demo is shared on social media.\n",
            " |      theme (str | None): Theme to use - right now, only \"default\" is supported. Can be set with the GRADIO_THEME environment variable.\n",
            " |      css (str | None): custom css or path to custom css file to use with interface.\n",
            " |      allow_flagging (str | None): one of \"never\", \"auto\", or \"manual\". If \"never\" or \"auto\", users will not see a button to flag an input and output. If \"manual\", users will see a button to flag. If \"auto\", every prediction will be automatically flagged. If \"manual\", samples are flagged when the user clicks flag button. Can be set with environmental variable GRADIO_ALLOW_FLAGGING; otherwise defaults to \"manual\".\n",
            " |      flagging_options (List[str] | None): if provided, allows user to select from the list of options when flagging. Only applies if allow_flagging is \"manual\".\n",
            " |      flagging_dir (str): what to name the directory where flagged data is stored.\n",
            " |      flagging_callback (FlaggingCallback): An instance of a subclass of FlaggingCallback which will be called when a sample is flagged. By default logs to a local CSV file.\n",
            " |      analytics_enabled (bool | None): Whether to allow basic telemetry. If None, will use GRADIO_ANALYTICS_ENABLED environment variable if defined, or default to True.\n",
            " |  \n",
            " |  __repr__(self)\n",
            " |      Return repr(self).\n",
            " |  \n",
            " |  __str__(self)\n",
            " |      Return str(self).\n",
            " |  \n",
            " |  integrate(self, comet_ml=None, wandb=None, mlflow=None) -> 'None'\n",
            " |      A catch-all method for integrating with other libraries.\n",
            " |      Should be run after launch()\n",
            " |      Parameters:\n",
            " |          comet_ml (Experiment): If a comet_ml Experiment object is provided,\n",
            " |          will integrate with the experiment and appear on Comet dashboard\n",
            " |          wandb (module): If the wandb module is provided, will integrate\n",
            " |          with it and appear on WandB dashboard\n",
            " |          mlflow (module): If the mlflow module  is provided, will integrate\n",
            " |          with the experiment and appear on ML Flow dashboard\n",
            " |  \n",
            " |  interpret(self, raw_input: 'List[Any]') -> 'List[Any]'\n",
            " |  \n",
            " |  process(self, raw_input: 'List[Any]') -> 'Tuple[List[Any], List[float]]'\n",
            " |      First preprocesses the input, then runs prediction using\n",
            " |      self.run_prediction(), then postprocesses the output.\n",
            " |      Parameters:\n",
            " |      raw_input: a list of raw inputs to process and apply the prediction(s) on.\n",
            " |      Returns:\n",
            " |      processed output: a list of processed  outputs to return as the prediction(s).\n",
            " |      duration: a list of time deltas measuring inference time for each prediction fn.\n",
            " |  \n",
            " |  run_prediction(self, processed_input: 'List[Any]', called_directly: 'bool' = False) -> 'List[Any] | Tuple[List[Any], List[float]]'\n",
            " |      Runs the prediction function with the given (already processed) inputs.\n",
            " |      Parameters:\n",
            " |      processed_input (list): A list of processed inputs.\n",
            " |      called_directly (bool): Whether the prediction is being called\n",
            " |          directly (i.e. as a function, not through the GUI).\n",
            " |      Returns:\n",
            " |      predictions (list): A list of predictions (not post-processed).\n",
            " |  \n",
            " |  test_launch(self) -> 'None'\n",
            " |      Passes a few samples through the function to test if the inputs/outputs\n",
            " |      components are consistent with the function parameter and return values.\n",
            " |  \n",
            " |  ----------------------------------------------------------------------\n",
            " |  Class methods defined here:\n",
            " |  \n",
            " |  from_pipeline(pipeline: 'transformers.Pipeline', **kwargs) -> 'Interface' from builtins.type\n",
            " |      Class method that constructs an Interface from a Hugging Face transformers.Pipeline object.\n",
            " |      The input and output components are automatically determined from the pipeline.\n",
            " |      Parameters:\n",
            " |      pipeline (transformers.Pipeline): the pipeline object to use.\n",
            " |      Returns:\n",
            " |      (gradio.Interface): a Gradio Interface object from the given Pipeline\n",
            " |  \n",
            " |  get_instances() -> 'List[Interface]' from builtins.type\n",
            " |      :return: list of all current instances.\n",
            " |  \n",
            " |  load(name: 'str', src: 'Optional[str]' = None, api_key: 'Optional[str]' = None, alias: 'Optional[str]' = None, **kwargs) -> 'Interface' from builtins.type\n",
            " |      Class method that constructs an Interface from a Hugging Face repo. Can accept\n",
            " |      model repos (if src is \"models\") or Space repos (if src is \"spaces\"). The input\n",
            " |      and output components are automatically loaded from the repo.\n",
            " |      Parameters:\n",
            " |      name (str): the name of the model (e.g. \"gpt2\"), can include the `src` as prefix (e.g. \"models/gpt2\")\n",
            " |      src (str | None): the source of the model: `models` or `spaces` (or empty if source is provided as a prefix in `name`)\n",
            " |      api_key (str | None): optional api key for use with Hugging Face Hub\n",
            " |      alias (str | None): optional string used as the name of the loaded model instead of the default name\n",
            " |      Returns:\n",
            " |      (gradio.Interface): a Gradio Interface object for the given model\n",
            " |  \n",
            " |  ----------------------------------------------------------------------\n",
            " |  Data and other attributes defined here:\n",
            " |  \n",
            " |  InterfaceTypes = <enum 'InterfaceTypes'>\n",
            " |      An enumeration.\n",
            " |  \n",
            " |  __annotations__ = {'instances': 'weakref.WeakSet'}\n",
            " |  \n",
            " |  instances = {<weakref at 0x7f4edb2288b0; to 'Interface' at 0x7f4edb200...\n",
            " |  \n",
            " |  ----------------------------------------------------------------------\n",
            " |  Methods inherited from gradio.blocks.Blocks:\n",
            " |  \n",
            " |  __enter__(self)\n",
            " |  \n",
            " |  __exit__(self, *args)\n",
            " |  \n",
            " |  block_thread(self) -> 'None'\n",
            " |      Block main thread until interrupted by user.\n",
            " |  \n",
            " |  clear(self)\n",
            " |      Resets the layout of the Blocks object.\n",
            " |  \n",
            " |  close(self, verbose: 'bool' = True) -> 'None'\n",
            " |      Closes the Interface that was launched and frees the port.\n",
            " |  \n",
            " |  get_config(self)\n",
            " |  \n",
            " |  get_config_file(self)\n",
            " |  \n",
            " |  launch(self, inline: 'bool' = None, inbrowser: 'bool' = False, share: 'bool' = False, debug: 'bool' = False, enable_queue: 'bool' = None, auth: 'Optional[Callable | Tuple[str, str] | List[Tuple[str, str]]]' = None, auth_message: 'Optional[str]' = None, prevent_thread_lock: 'bool' = False, show_error: 'bool' = True, server_name: 'Optional[str]' = None, server_port: 'Optional[int]' = None, show_tips: 'bool' = False, height: 'int' = 500, width: 'int' = 900, encrypt: 'bool' = False, favicon_path: 'Optional[str]' = None, ssl_keyfile: 'Optional[str]' = None, ssl_certfile: 'Optional[str]' = None, ssl_keyfile_password: 'Optional[str]' = None, _frontend: 'bool' = True) -> 'Tuple[FastAPI, str, str]'\n",
            " |      Launches a simple web server that serves the demo. Can also be used to create a\n",
            " |      shareable link.\n",
            " |      Parameters:\n",
            " |      inline (bool | None): whether to display in the interface inline in an iframe. Defaults to True in python notebooks; False otherwise.\n",
            " |      inbrowser (bool): whether to automatically launch the interface in a new tab on the default browser.\n",
            " |      share (bool): whether to create a publicly shareable link for the interface. Creates an SSH tunnel to make your UI accessible from anywhere.\n",
            " |      debug (bool): if True, blocks the main thread from running. If running in Google Colab, this is needed to print the errors in the cell output.\n",
            " |      auth (Callable | Union[Tuple[str, str] | List[Tuple[str, str]]] | None): If provided, username and password (or list of username-password tuples) required to access interface. Can also provide function that takes username and password and returns True if valid login.\n",
            " |      auth_message (str | None): If provided, HTML message provided on login page.\n",
            " |      prevent_thread_lock (bool): If True, the interface will block the main thread while the server is running.\n",
            " |      show_error (bool): If True, any errors in the interface will be printed in the browser console log\n",
            " |      server_port (int | None): will start gradio app on this port (if available). Can be set by environment variable GRADIO_SERVER_PORT. If None, will search for an available port starting at 7860.\n",
            " |      server_name (str | None): to make app accessible on local network, set this to \"0.0.0.0\". Can be set by environment variable GRADIO_SERVER_NAME. If None, will use \"127.0.0.1\".\n",
            " |      show_tips (bool): if True, will occasionally show tips about new Gradio features\n",
            " |      enable_queue (bool | None): if True, inference requests will be served through a queue instead of with parallel threads. Required for longer inference times (> 1min) to prevent timeout. The default option in HuggingFace Spaces is True. The default option elsewhere is False.\n",
            " |      width (int): The width in pixels of the iframe element containing the interface (used if inline=True)\n",
            " |      height (int): The height in pixels of the iframe element containing the interface (used if inline=True)\n",
            " |      encrypt (bool): If True, flagged data will be encrypted by key provided by creator at launch\n",
            " |      favicon_path (str | None): If a path to a file (.png, .gif, or .ico) is provided, it will be used as the favicon for the web page.\n",
            " |      ssl_keyfile (str | None): If a path to a file is provided, will use this as the private key file to create a local server running on https.\n",
            " |      ssl_certfile (str | None): If a path to a file is provided, will use this as the signed certificate for https. Needs to be provided if ssl_keyfile is provided.\n",
            " |      ssl_keyfile_password (str | None): If a password is provided, will use this with the ssl certificate for https.\n",
            " |      Returns:\n",
            " |      app (FastAPI): FastAPI app object that is running the demo\n",
            " |      local_url (str): Locally accessible link to the demo\n",
            " |      share_url (str): Publicly accessible link to the demo (if share=True, otherwise None)\n",
            " |  \n",
            " |  async process_api(self, data: 'PredictBody', username: 'str' = None, state: 'Optional[Dict[int, any]]' = None) -> 'Dict[str, Any]'\n",
            " |      Processes API calls from the frontend.\n",
            " |      Parameters:\n",
            " |          data: data recieved from the frontend\n",
            " |          username: name of user if authentication is set up\n",
            " |          state: data stored from stateful components for session\n",
            " |      Returns: None\n",
            " |  \n",
            " |  render(self)\n",
            " |      Adds self into appropriate BlockContext\n",
            " |  \n",
            " |  ----------------------------------------------------------------------\n",
            " |  Methods inherited from gradio.blocks.BlockContext:\n",
            " |  \n",
            " |  postprocess(self, y)\n",
            " |  \n",
            " |  ----------------------------------------------------------------------\n",
            " |  Methods inherited from gradio.blocks.Block:\n",
            " |  \n",
            " |  get_block_name(self) -> 'str'\n",
            " |      Gets block's class name.\n",
            " |      \n",
            " |      If it is template component it gets the parent's class name.\n",
            " |      \n",
            " |      @return: class name\n",
            " |  \n",
            " |  set_event_trigger(self, event_name: 'str', fn: 'Optional[Callable]', inputs: 'Optional[Component | List[Component]]', outputs: 'Optional[Component | List[Component]]', preprocess: 'bool' = True, postprocess: 'bool' = True, js: 'Optional[str]' = False, no_target: 'bool' = False, status_tracker: 'Optional[StatusTracker]' = None, queue: 'Optional[bool]' = None) -> 'None'\n",
            " |      Adds an event to the component's dependencies.\n",
            " |      Parameters:\n",
            " |          event_name: event name\n",
            " |          fn: Callable function\n",
            " |          inputs: input list\n",
            " |          outputs: output list\n",
            " |          preprocess: whether to run the preprocess methods of components\n",
            " |          postprocess: whether to run the postprocess methods of components\n",
            " |          js: Optional frontend js method to run before running 'fn'. Input arguments for js method are values of 'inputs' and 'outputs', return should be a list of values for output components\n",
            " |          no_target: if True, sets \"targets\" to [], used for Blocks \"load\" event\n",
            " |          status_tracker: StatusTracker to visualize function progress\n",
            " |      Returns: None\n",
            " |  \n",
            " |  unrender(self)\n",
            " |      Removes self from BlockContext if it has been rendered (otherwise does nothing).\n",
            " |      Only deletes the first occurrence of self in BlockContext. Removes from the\n",
            " |      layout and collection of Blocks, but does not delete any event triggers.\n",
            " |  \n",
            " |  ----------------------------------------------------------------------\n",
            " |  Data descriptors inherited from gradio.blocks.Block:\n",
            " |  \n",
            " |  __dict__\n",
            " |      dictionary for instance variables (if defined)\n",
            " |  \n",
            " |  __weakref__\n",
            " |      list of weak references to the object (if defined)\n",
            "\n"
          ]
        }
      ],
      "source": [
        "help(gr.Interface)"
      ]
    },
    {
      "cell_type": "code",
      "execution_count": null,
      "metadata": {},
      "outputs": [],
      "source": []
    }
  ],
  "metadata": {
    "colab": {
      "collapsed_sections": [],
      "name": "Kaggle_Iris_Classification_Gradio.ipynb",
      "provenance": []
    },
    "kernelspec": {
      "display_name": "Python 3",
      "name": "python3"
    },
    "language_info": {
      "codemirror_mode": {
        "name": "ipython",
        "version": 3
      },
      "file_extension": ".py",
      "mimetype": "text/x-python",
      "name": "python",
      "nbconvert_exporter": "python",
      "pygments_lexer": "ipython3",
      "version": "3.8.18"
    }
  },
  "nbformat": 4,
  "nbformat_minor": 0
}
